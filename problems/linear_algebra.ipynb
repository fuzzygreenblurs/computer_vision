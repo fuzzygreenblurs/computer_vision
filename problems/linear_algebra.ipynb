{
 "cells": [
  {
   "cell_type": "code",
   "execution_count": 28,
   "metadata": {},
   "outputs": [],
   "source": [
    "import numpy as np\n",
    "import matplotlib.pyplot as plt\n",
    "import random\n",
    "from scipy.linalg import svd"
   ]
  },
  {
   "cell_type": "markdown",
   "metadata": {},
   "source": [
    "#### Problem 1\n"
   ]
  },
  {
   "cell_type": "markdown",
   "metadata": {},
   "source": [
    "Explanation: To determine the number of linearly independent columns (i.e. the rank) of a matrix A, we can apply a numerical SVD factorization method to the matrix. \n",
    "The number of non-zero values in the sigma (singular values) matrix will represent the rank of the matrix A."
   ]
  },
  {
   "cell_type": "code",
   "execution_count": 29,
   "metadata": {},
   "outputs": [
    {
     "name": "stdout",
     "output_type": "stream",
     "text": [
      "number of LI columns in A (i.e. its rank):  3\n"
     ]
    }
   ],
   "source": [
    "#### Code\n",
    "\n",
    "A = np.array([\n",
    "    [-1.32, -0.18, 2.13], \n",
    "    [2.64,  -4.68, 4.65], \n",
    "    [1.47,  -4.75, 6.80]\n",
    "])\n",
    "\n",
    "_, S, _ = svd(A)\n",
    "rank = np.count_nonzero(np.round(S, decimals=4))\n",
    "print(\"number of LI columns in A (i.e. its rank): \", rank)\n"
   ]
  },
  {
   "cell_type": "markdown",
   "metadata": {},
   "source": [
    "#### Problem 2"
   ]
  },
  {
   "cell_type": "code",
   "execution_count": 30,
   "metadata": {
    "vscode": {
     "languageId": "latex"
    }
   },
   "outputs": [],
   "source": [
    "#TO_DO: handwritten explanation"
   ]
  },
  {
   "cell_type": "markdown",
   "metadata": {},
   "source": [
    "Python Explanation:\n",
    "We can reproduce the handwritten approach programmatically to determine the parameters for the best fit linear estimate using least squares estimation:"
   ]
  },
  {
   "cell_type": "code",
   "execution_count": 47,
   "metadata": {},
   "outputs": [
    {
     "name": "stdout",
     "output_type": "stream",
     "text": [
      "[-1.94  6.52]\n"
     ]
    }
   ],
   "source": [
    "x = np.array([-1.0, 2.5, 6.0, -3.5, 3.0, 8.5])\n",
    "B = np.array([8.5, 3.0, -5.5, 13.0, 0.0, -10.0])\n",
    "A = np.zeros((x.size, 2))\n",
    "for i, elem in enumerate(x):\n",
    "    A[i] = np.array([elem, 1])\n",
    "\n",
    "AT = np.transpose(A)\n",
    "\n",
    "## note: component C1: (ATranspose * A) ends up having a non-zero determinant, proving it is invertible\n",
    "## this number also matches our handwritten expression above\n",
    "C1 = np.dot(AT, A)\n",
    "# print(round(np.linalg.det(C1)), \"\\n\")\n",
    "\n",
    "C1_INV = np.linalg.inv(C1)\n",
    "C2 = np.dot(AT, B)\n",
    "\n",
    "## SOLUTION: this is the parameter q we are solving for in Aq = p_hat \n",
    "# (where p_hat is our closest vector estimate that still falls in A's columnspace)\n",
    "LEAST_SQ_EST_PARAMS = np.round(np.dot(C1_INV, C2), 2)\n",
    "print(LEAST_SQ_EST_PARAMS)"
   ]
  },
  {
   "cell_type": "markdown",
   "metadata": {},
   "source": [
    "#### Problem 3"
   ]
  },
  {
   "cell_type": "markdown",
   "metadata": {},
   "source": [
    "Yes, `w_1`, `w_2` and `w_3` would be a valid set of basis vectors for `R_3`. There are two considerations here:\n",
    "1. Dimensional consistency: Each vector is made of up three components, one for each dimension of R_3\n",
    "2. Linear Independence: If you concatenate the three vectors together, you can quickly see that they are linear independent because they form a 3x3 matrix in upper triangular form. \n",
    "\n",
    "Note: The bottom components of `w_1` and `w_2` are both 0, indicating that there would be no possible linear combination of those two vectors that would yield the required \"k_hat\" component (`1`) in the `w_3` vector."
   ]
  },
  {
   "cell_type": "markdown",
   "metadata": {},
   "source": [
    "#### Problem 4"
   ]
  },
  {
   "cell_type": "markdown",
   "metadata": {},
   "source": [
    "Similarly (to problem 3), `t_1`, `t_2` and `t_3` form a valid set of basis vectors for `R_3`. Once again, concatenating these three vectors forms an upper triangular matrix (and therefore one with linear independent column vectors). Additionally, note that this combination of vectors represents a rotation matrix about the \"z\" axis, which would mean that the transformation does not reduce the dimensionality of the output vectorspace (i.e. this matrix would be invertible, which can be further proven by showing the determinant of the matrix to be non-zero. It will be 1 which represents a pure retention of the area of columnspace represented by A)."
   ]
  },
  {
   "cell_type": "code",
   "execution_count": 48,
   "metadata": {},
   "outputs": [
    {
     "name": "stdout",
     "output_type": "stream",
     "text": [
      "det(A):  1\n"
     ]
    }
   ],
   "source": [
    "A = np.array([\n",
    "    [0.707,   0.707,  0], \n",
    "    [-0.707,  0.707,  0], \n",
    "    [0,       0,      1]\n",
    "])\n",
    "\n",
    "print(\"det(A): \", round(np.linalg.det(A)))"
   ]
  },
  {
   "cell_type": "markdown",
   "metadata": {},
   "source": [
    "#### Problem 5"
   ]
  },
  {
   "cell_type": "markdown",
   "metadata": {},
   "source": [
    "The vectors `w_1` through `w_4` do span `R_3` since they each have 3 components, one for each dimension of `R_3`. However, they are not all linearly independent and therefore would not form a basis for `R_3`. Note that `w_1` through `w_3` by themselves would form an upper triangular matrix and would therefore be easily identified as being linearly independent, similar to Problems 3 and 4. `w_4` can be derived as a linear combination of `2(w_1) - w_2 + 3(w_3)` and is therefore redundant. The arithmetic would look like:\n",
    "\n",
    "```python\n",
    "# [\n",
    "#     2(1) -1(1) + 3(0) = 1,\n",
    "#     2(0) -1(1) + 3(1) = 2,\n",
    "#     2(0) -1(0) + 3(1) = 3\n",
    "# ]\n",
    "```\n"
   ]
  },
  {
   "cell_type": "markdown",
   "metadata": {},
   "source": [
    "#### Problem 6"
   ]
  },
  {
   "cell_type": "code",
   "execution_count": 49,
   "metadata": {},
   "outputs": [
    {
     "name": "stdout",
     "output_type": "stream",
     "text": [
      "component vectors v1, v2, v3: \n",
      " [-7  9 -9] \n",
      " [ 1  1 -2] \n",
      " [-39  41 -37] \n",
      "\n",
      "target matrix A: \n",
      " [[ -7   1 -39]\n",
      " [  9   1  41]\n",
      " [ -9  -2 -37]] \n",
      "\n",
      "number of LI columns in A (i.e. its rank):  2\n",
      "an orthonormal set of basis vectors for the nullspace of A: \n",
      " [[0.9778374 ]\n",
      " [0.14150794]\n",
      " [0.15430335]]\n"
     ]
    }
   ],
   "source": [
    "# APPROACH: I'm using exclusively randomly generated values to show that SVD can always be used to determine rank\n",
    "# (even for linear combinations of floats)\n",
    "\n",
    "# we generate a third vector v3 by performing a random linear combination of v1 and v2\n",
    "coeffs = (np.random.randint(10), round(np.random.randint(10)))\n",
    "v1 = np.random.randint(-10, 10, size=3)\n",
    "v2 = np.random.randint(-10, 10, size=3)\n",
    "v3 = np.array([(coeffs[0]*a - coeffs[1]*b) for a, b in zip(v1, v2)])\n",
    "print(\"component vectors v1, v2, v3: \\n\", v1, \"\\n\",  v2, \"\\n\",  v3, \"\\n\")\n",
    "\n",
    "A = np.stack((v1, v2, v3), axis=1)\n",
    "print(\"target matrix A: \\n\", A, \"\\n\")\n",
    "\n",
    "# we then perform SVD on the overall matrix, and filter out any almost-zero singular values\n",
    "# counting the rest of the singular values yields the rank of the original matrix M\n",
    "_, S, VT = svd(A)\n",
    "rank = np.count_nonzero(np.round(S, decimals=4))\n",
    "print(\"number of LI columns in A (i.e. its rank): \", rank)\n",
    "\n",
    "# general nullspace intuition: for matrices that are not full rank (output vectorspace is reduced to a lower dimension),\n",
    "# there is a set of input vectors that will end up being transformed to the 0 vector. This set is called the nullspace. \n",
    "\n",
    "# note: the last n - r columns in VT form a set of orthonormal basis vectors of the matrix A's nullspace\n",
    "zero_sv_column_indices = (S < 0.0001).nonzero()[0]\n",
    "nullspace_basis = VT[:,zero_sv_column_indices]\n",
    "print(\"an orthonormal set of basis vectors for the nullspace of A: \\n\", nullspace_basis)\n"
   ]
  },
  {
   "cell_type": "markdown",
   "metadata": {},
   "source": [
    "#### Problem 7"
   ]
  },
  {
   "cell_type": "code",
   "execution_count": 63,
   "metadata": {},
   "outputs": [
    {
     "name": "stdout",
     "output_type": "stream",
     "text": [
      "x:  [0. 1. 2. 3. 4. 5. 6. 7. 8. 9.] \n",
      " B:  [ 3.81  5.06  8.85 14.98 15.06 21.9  21.12 28.9  27.88 30.25] \n",
      "\n",
      "[3.17 3.51]\n"
     ]
    },
    {
     "data": {
      "image/png": "[encoded data removed]",
      "text/plain": [
       "<Figure size 640x480 with 1 Axes>"
      ]
     },
     "metadata": {},
     "output_type": "display_data"
    }
   ],
   "source": [
    "## Performing a least squares estimate \n",
    "\n",
    "## SETUP: generating a dataset of 10 points with some incoporated noise (plotted in red)\n",
    "c, d = 3, 5\n",
    "dev = 3\n",
    "x = np.linspace(0, 9, num=10)\n",
    "B = np.zeros(x.size)\n",
    "for i,_ in enumerate(x):\n",
    "    noise = round(random.uniform(-1*dev, dev), 2)\n",
    "    B[i] = c*(x[i]) + d + noise\n",
    "\n",
    "print(\"x: \", x, \"\\n\", \"B: \", B, \"\\n\")\n",
    "\n",
    "## LEAST SQUARES SOLUTION: similar approach to Problem 2: plotted as a blue line below\n",
    "A = np.zeros((x.size, 2))\n",
    "for i, elem in enumerate(x):\n",
    "    A[i] = np.array([elem, 1])\n",
    "\n",
    "AT = np.transpose(A)\n",
    "\n",
    "C1 = np.dot(AT, A)\n",
    "# print(round(np.linalg.det(C1)), \"\\n\")\n",
    "\n",
    "C1_INV = np.linalg.inv(C1)\n",
    "C2 = np.dot(AT, B)\n",
    "\n",
    "# SOLUTION: the vector q we are solving for in Aq = p_hat encodes the slope and offset of the LS best-fit line\n",
    "# (where p_hat is our closest vector estimate that still falls in A's columnspace)\n",
    "LEAST_SQ_EST_PARAMS = np.round(np.dot(C1_INV, C2), 2)\n",
    "print(LEAST_SQ_EST_PARAMS)\n",
    "\n",
    "\n",
    "p_hat = np.zeros(x.size)\n",
    "for i,_ in enumerate(x):\n",
    "    p_hat[i] = LEAST_SQ_EST_PARAMS[0]*(x[i]) + LEAST_SQ_EST_PARAMS[1]\n",
    "\n",
    "plt.plot(x, B, 'ro')\n",
    "plt.plot(x, p_hat)\n",
    "plt.show()\n"
   ]
  }
 ],
 "metadata": {
  "kernelspec": {
   "display_name": "Python 3",
   "language": "python",
   "name": "python3"
  },
  "language_info": {
   "codemirror_mode": {
    "name": "ipython",
    "version": 3
   },
   "file_extension": ".py",
   "mimetype": "text/x-python",
   "name": "python",
   "nbconvert_exporter": "python",
   "pygments_lexer": "ipython3",
   "version": "3.11.3"
  },
  "orig_nbformat": 4
 },
 "nbformat": 4,
 "nbformat_minor": 2
}
